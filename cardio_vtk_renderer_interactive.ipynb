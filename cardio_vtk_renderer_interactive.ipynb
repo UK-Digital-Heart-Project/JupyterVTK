{
 "cells": [
  {
   "cell_type": "markdown",
   "metadata": {},
   "source": [
    "# Importing and displaying VTK data"
   ]
  },
  {
   "cell_type": "markdown",
   "metadata": {},
   "source": [
    "### Import required libraries:"
   ]
  },
  {
   "cell_type": "code",
   "execution_count": null,
   "metadata": {},
   "outputs": [],
   "source": [
    "import os\n",
    "import vtk\n",
    "import numpy as np\n",
    "from vtk.util import numpy_support\n",
    "import k3d\n",
    "from k3d.helpers import download\n",
    "from ipywidgets import interact, interact_manual, interactive, HBox, VBox\n",
    "from ipywidgets import widgets, Layout\n",
    "import matplotlib.pyplot as pl"
   ]
  },
  {
   "cell_type": "markdown",
   "metadata": {},
   "source": [
    "### Initialize user interface:"
   ]
  },
  {
   "cell_type": "code",
   "execution_count": null,
   "metadata": {},
   "outputs": [],
   "source": [
    "#cms = [attr for attr in dir(k3d.colormaps.matplotlib_color_maps) if not attr.startswith('__')]\n",
    "cms = ['RdBu','PuOr','Blues','RdYlGn','RdGy','YlOrBr']\n",
    "vtpdir = 'https://raw.githubusercontent.com/ghalib-bello/myK3D-jupyter/master/examples/'\n",
    "vtp_dict_urls = {'LVProperty1':'exampleLV_wallthick.vtp', \n",
    "                 'LVProperty2':'exampleLV_distprof.vtp',\n",
    "                 'LVProperty3':'exampleLV_Property3.vtp'}\n",
    "vtp_dict = dict()\n",
    "for ky in list(vtp_dict_urls.keys()):\n",
    "    filename = download(vtpdir+vtp_dict_urls[ky])\n",
    "    LVreader = vtk.vtkXMLPolyDataReader()\n",
    "    LVreader.SetFileName(filename)\n",
    "    LVreader.Update()\n",
    "    vtp_dict[ky]=LVreader.GetOutput()\n",
    "vtp_dict_keys = list(vtp_dict.keys())\n",
    "\n",
    "plot2 = k3d.plot(height=400)\n",
    "plot2.wireframe=True\n",
    "plot2.display()\n",
    "\n",
    "maps =widgets.Dropdown(options=vtp_dict_keys, value=vtp_dict_keys[0], description='Mesh:')\n",
    "cmsel=widgets.Select(options=cms,value=cms[0],description='ColorMap', rows=len(cms))\n",
    "\n",
    "#@interact(x=maps, y=cmsel)\n",
    "def plot(x, y):\n",
    "    sh2 = vtp_dict[x]\n",
    "    scvtk = sh2.GetPointData().GetScalars()\n",
    "    sc = numpy_support.vtk_to_numpy(scvtk)\n",
    "    scmin, scmax = np.min(sc), np.max(sc)\n",
    "\n",
    "    global plot2\n",
    "    numobj=len(plot2.objects)\n",
    "    if numobj>0:\n",
    "        for i in range(numobj): plot2 -= plot2.objects[-1]\n",
    "\n",
    "    LVmesh = k3d.vtk_poly_data(sh2,\n",
    "                             color_attribute=(scvtk.GetName(),scmin, scmax),\n",
    "                             color_map=getattr(k3d.matplotlib_color_maps, cmsel.value),\n",
    "                             color_range=[scmin, scmax])\n",
    "    plot2 += LVmesh\n",
    "\n",
    "    lvobj=plot2.objects[0]\n",
    "    lvobj.color_map = getattr(k3d.matplotlib_color_maps, y)\n",
    "    a = np.array([lvobj.color_range])\n",
    "    pl.figure(figsize=(9, 0.5))\n",
    "    img = pl.imshow(a, cmap=y)\n",
    "    pl.gca().set_visible(False)\n",
    "    cax = pl.axes([0.1, 0.2, 0.8, 0.4])\n",
    "    pl.colorbar(orientation=\"horizontal\", cax=cax)\n",
    "\n",
    "out = widgets.interactive_output(f=plot, controls={'x':maps, 'y':cmsel})\n",
    "widgets.VBox(children=[out, widgets.HBox(children=[maps,cmsel])])"
   ]
  },
  {
   "cell_type": "code",
   "execution_count": null,
   "metadata": {},
   "outputs": [],
   "source": []
  }
 ],
 "metadata": {
  "kernelspec": {
   "display_name": "Python 3",
   "language": "python",
   "name": "python3"
  },
  "language_info": {
   "codemirror_mode": {
    "name": "ipython",
    "version": 3
   },
   "file_extension": ".py",
   "mimetype": "text/x-python",
   "name": "python",
   "nbconvert_exporter": "python",
   "pygments_lexer": "ipython3",
   "version": "3.6.5"
  }
 },
 "nbformat": 4,
 "nbformat_minor": 2
}
